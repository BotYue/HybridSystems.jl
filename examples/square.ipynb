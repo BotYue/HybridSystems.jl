{
 "cells": [
  {
   "cell_type": "code",
   "execution_count": null,
   "metadata": {},
   "outputs": [],
   "source": [
    "using FillArrays\n",
    "using HybridSystems\n",
    "A = LightAutomaton(1)\n",
    "add_transition!(A, 1, 1, 1)\n",
    "\n",
    "using Polyhedra\n",
    "using CDDLib\n",
    "using LinearAlgebra\n",
    "hr = HalfSpace([1, 0], 1) ∩ HalfSpace([-1, 0], 1) ∩ HalfSpace([0, 1], 1) ∩ HalfSpace([0, -1], 1)\n",
    "H = polyhedron(hr, CDDLibrary())\n",
    "\n",
    "using MathematicalSystems\n",
    "is = ConstrainedContinuousIdentitySystem(2, H)\n",
    "s = LinearControlDiscreteSystem(Matrix(1.0I, 2, 2), Matrix{Float64}(undef, 2, 0))\n",
    "\n",
    "sw = AutonomousSwitching()\n",
    "\n",
    "S = Fill(is, 1)\n",
    "Re = Fill(s, 1)\n",
    "Sw = Fill(sw, 1)\n",
    "\n",
    "hs = HybridSystem(A, S, Re, Sw)"
   ]
  },
  {
   "cell_type": "code",
   "execution_count": null,
   "metadata": {},
   "outputs": [],
   "source": [
    "using Plots\n",
    "gr()"
   ]
  },
  {
   "cell_type": "code",
   "execution_count": null,
   "metadata": {},
   "outputs": [],
   "source": [
    "plot(H)"
   ]
  },
  {
   "cell_type": "code",
   "execution_count": null,
   "metadata": {},
   "outputs": [],
   "source": []
  }
 ],
 "metadata": {
  "kernelspec": {
   "display_name": "Julia 1.0.0",
   "language": "julia",
   "name": "julia-1.0"
  },
  "language_info": {
   "file_extension": ".jl",
   "mimetype": "application/julia",
   "name": "julia",
   "version": "1.0.1"
  }
 },
 "nbformat": 4,
 "nbformat_minor": 2
}
